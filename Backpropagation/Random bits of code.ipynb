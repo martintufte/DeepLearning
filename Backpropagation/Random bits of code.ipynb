{
 "cells": [
  {
   "cell_type": "markdown",
   "id": "8721d412",
   "metadata": {},
   "source": [
    "# Image generation from scratch"
   ]
  },
  {
   "cell_type": "code",
   "execution_count": 597,
   "id": "db9f3f62",
   "metadata": {},
   "outputs": [],
   "source": [
    "import numpy as np\n",
    "from skimage.draw import line_aa\n",
    "import matplotlib.pyplot as plt"
   ]
  },
  {
   "cell_type": "code",
   "execution_count": 673,
   "id": "5c4e692f",
   "metadata": {},
   "outputs": [],
   "source": [
    "def generate_imgs(N, n_samples, margin_tb_min=0.05, margin_tb_max=0.20,\n",
    "                  displacement_y_max=0.20, difference_y_max=0.15):\n",
    "    '''\n",
    "    Function for generating training data + test data.\n",
    "    Currently produces images of arrows pointing upwards.\n",
    "    '''\n",
    "    \n",
    "    # Store images in this ndarray\n",
    "    imgs = np.zeros((n_samples, N, N), dtype=np.uint8)\n",
    "    \n",
    "    # Generate one sample at a time\n",
    "    for i in range(n_samples):\n",
    "        # Generate line thickness\n",
    "        line_thickness = min(0.25, np.random.random(1)/2)\n",
    "\n",
    "        # Generate x-values\n",
    "        x0 = margin_tb_min + np.random.random(1)*(margin_tb_max - margin_tb_min)\n",
    "        x1 = 1 - margin_tb_min - np.random.random(1)*(margin_tb_max - margin_tb_min)\n",
    "\n",
    "        # Generate y-values\n",
    "        displacement = (2*np.random.random(1)-1)*displacement_y_max\n",
    "        difference = (2*np.random.random(1)-1)*difference_y_max\n",
    "\n",
    "        # Generate y-values\n",
    "        y0 = 0.5 + displacement - difference/2\n",
    "        y1 = 0.5 + displacement + difference/2\n",
    "\n",
    "        # Calculate position of tips\n",
    "        x_m = (3*x0+x1)/4\n",
    "        y_m = (3*y0+y1)/4\n",
    "        # Tip 1\n",
    "        x_t1 = x_m - (y0-y_m)\n",
    "        x_t2 = x_m + (y0-y_m)\n",
    "        # Tip 2\n",
    "        y_t1 = y_m + (x0-x_m) \n",
    "        y_t2 = y_m - (x0-x_m)\n",
    "\n",
    "        # Convert proportions to pixel values in the image\n",
    "        X0 = int(N*x0 + 0.5)\n",
    "        X1 = int(N*x1 + 0.5)\n",
    "        Y0 = int(N*y0 + 0.5)\n",
    "        Y1 = int(N*y1 + 0.5)\n",
    "        XT1 = int(N*x_t1 + 0.5)\n",
    "        YT1 = int(N*y_t1 + 0.5)\n",
    "        XT2 = int(N*x_t2 + 0.5)\n",
    "        YT2 = int(N*y_t2 + 0.5)\n",
    "\n",
    "        # Add main line in the arrow\n",
    "        rr, cc, val = line_aa(X0, Y0, X1, Y1)\n",
    "        imgs[i,rr,cc] = val > line_thickness\n",
    "\n",
    "        # Add extra lines to make an actual arrow\n",
    "        rr, cc, val = line_aa(X0, Y0, XT1, YT1)\n",
    "        imgs[i,rr,cc] = val > line_thickness\n",
    "        rr, cc, val = line_aa(X0, Y0, XT2, YT2)\n",
    "        imgs[i,rr,cc] = val > line_thickness\n",
    "        \n",
    "    return imgs\n",
    "\n",
    "\n",
    "\n",
    "def add_noise(imgs, prob):\n",
    "    '''\n",
    "    Add noise to random pixels in the image.\n",
    "    '''\n",
    "    noise = np.random.binomial(1, prob, imgs.shape)\n",
    "    \n",
    "    return np.bitwise_xor(imgs, noise)\n",
    "\n",
    "    \n",
    "    \n",
    "def create_data(N, n_samples, noise_prob = 0, flatten=False):\n",
    "    '''\n",
    "    Fuction for creating the actual training data w/ labels.\n",
    "    '''\n",
    "    # Generate imgs\n",
    "    imgs = generate_imgs(N, n_samples)\n",
    "    \n",
    "    # Add noise\n",
    "    if noise_prob > 0:\n",
    "        imgs = add_noise(imgs, noise_prob)\n",
    "    \n",
    "    # Generate labels (0 = up, 1 = left, 2 = down, 3 = right)\n",
    "    labels = np.random.randint(4, size=n_samples, dtype=np.uint8)\n",
    "    \n",
    "    # Rotate images according to their label\n",
    "    for i in (1,2,3):\n",
    "        imgs[labels==i] = np.rot90(imgs[labels==i], k=i, axes=(1,2))\n",
    "    \n",
    "    # If flatten is true, images are returned as 1D instead of 2D\n",
    "    if flatten:\n",
    "        return labels, imgs.reshape(n_samples, N*N)\n",
    "    return labels, imgs\n",
    "\n",
    "\n",
    "\n",
    "def visualize(imgs, n_samples):\n",
    "    '''\n",
    "    Function for visualizing the images\n",
    "    '''\n",
    "    N = imgs.shape[1]\n",
    "    fig, axes = plt.subplots(1, n_samples, figsize=(N, N))\n",
    "    for i, ax in enumerate(axes.flat):\n",
    "        ax.imshow( imgs[i].reshape(N,N), cmap='Greys' )\n",
    "        ax.set_xlabel('t')\n",
    "        ax.set_axis_off()\n",
    "    plt.show()"
   ]
  },
  {
   "cell_type": "code",
   "execution_count": 678,
   "id": "5527365e",
   "metadata": {},
   "outputs": [
    {
     "data": {
      "image/png": "[encoded data removed]",
      "text/plain": [
       "<Figure size 1728x1728 with 10 Axes>"
      ]
     },
     "metadata": {
      "needs_background": "light"
     },
     "output_type": "display_data"
    }
   ],
   "source": [
    "labels, imgs = create_data(N = 24, n_samples = 100, noise_prob=0.005)\n",
    "visualize(imgs, 10)"
   ]
  },
  {
   "cell_type": "code",
   "execution_count": null,
   "id": "55448883",
   "metadata": {},
   "outputs": [],
   "source": []
  },
  {
   "cell_type": "code",
   "execution_count": null,
   "id": "ea6953ae",
   "metadata": {},
   "outputs": [],
   "source": []
  }
 ],
 "metadata": {
  "kernelspec": {
   "display_name": "Python 3 (ipykernel)",
   "language": "python",
   "name": "python3"
  },
  "language_info": {
   "codemirror_mode": {
    "name": "ipython",
    "version": 3
   },
   "file_extension": ".py",
   "mimetype": "text/x-python",
   "name": "python",
   "nbconvert_exporter": "python",
   "pygments_lexer": "ipython3",
   "version": "3.9.7"
  }
 },
 "nbformat": 4,
 "nbformat_minor": 5
}
